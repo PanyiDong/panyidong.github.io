{
 "cells": [
  {
   "cell_type": "markdown",
   "metadata": {},
   "source": [
    "# Leaflet cluster map of talk locations\n",
    "\n",
    "Run this from the _talks/ directory, which contains .md files of all your talks. This scrapes the location YAML field from each .md file, geolocates it with geopy/Nominatim, and uses the getorg library to output data, HTML, and Javascript for a standalone cluster map."
   ]
  },
  {
   "cell_type": "code",
   "execution_count": 1,
   "metadata": {
    "collapsed": false,
    "execution": {
     "iopub.execute_input": "2025-08-10T00:41:53.713162Z",
     "iopub.status.busy": "2025-08-10T00:41:53.712864Z",
     "iopub.status.idle": "2025-08-10T00:41:55.164119Z",
     "shell.execute_reply": "2025-08-10T00:41:55.163310Z"
    }
   },
   "outputs": [
    {
     "name": "stdout",
     "output_type": "stream",
     "text": [
      "Requirement already satisfied: getorg in /opt/hostedtoolcache/Python/3.9.23/x64/lib/python3.9/site-packages (0.3.1)\r\n"
     ]
    },
    {
     "name": "stdout",
     "output_type": "stream",
     "text": [
      "Requirement already satisfied: geopy in /opt/hostedtoolcache/Python/3.9.23/x64/lib/python3.9/site-packages (from getorg) (2.4.1)\r\n",
      "Requirement already satisfied: pygithub in /opt/hostedtoolcache/Python/3.9.23/x64/lib/python3.9/site-packages (from getorg) (2.7.0)\r\n",
      "Requirement already satisfied: retrying in /opt/hostedtoolcache/Python/3.9.23/x64/lib/python3.9/site-packages (from getorg) (1.4.2)\r\n",
      "Requirement already satisfied: geographiclib<3,>=1.52 in /opt/hostedtoolcache/Python/3.9.23/x64/lib/python3.9/site-packages (from geopy->getorg) (2.0)\r\n",
      "Requirement already satisfied: pynacl>=1.4.0 in /opt/hostedtoolcache/Python/3.9.23/x64/lib/python3.9/site-packages (from pygithub->getorg) (1.5.0)\r\n",
      "Requirement already satisfied: requests>=2.14.0 in /opt/hostedtoolcache/Python/3.9.23/x64/lib/python3.9/site-packages (from pygithub->getorg) (2.32.4)\r\n",
      "Requirement already satisfied: pyjwt>=2.4.0 in /opt/hostedtoolcache/Python/3.9.23/x64/lib/python3.9/site-packages (from pyjwt[crypto]>=2.4.0->pygithub->getorg) (2.10.1)\r\n",
      "Requirement already satisfied: typing-extensions>=4.5.0 in /opt/hostedtoolcache/Python/3.9.23/x64/lib/python3.9/site-packages (from pygithub->getorg) (4.14.1)\r\n",
      "Requirement already satisfied: urllib3>=1.26.0 in /opt/hostedtoolcache/Python/3.9.23/x64/lib/python3.9/site-packages (from pygithub->getorg) (2.5.0)\r\n",
      "Requirement already satisfied: cryptography>=3.4.0 in /opt/hostedtoolcache/Python/3.9.23/x64/lib/python3.9/site-packages (from pyjwt[crypto]>=2.4.0->pygithub->getorg) (45.0.6)\r\n",
      "Requirement already satisfied: cffi>=1.14 in /opt/hostedtoolcache/Python/3.9.23/x64/lib/python3.9/site-packages (from cryptography>=3.4.0->pyjwt[crypto]>=2.4.0->pygithub->getorg) (1.17.1)\r\n",
      "Requirement already satisfied: pycparser in /opt/hostedtoolcache/Python/3.9.23/x64/lib/python3.9/site-packages (from cffi>=1.14->cryptography>=3.4.0->pyjwt[crypto]>=2.4.0->pygithub->getorg) (2.22)\r\n",
      "Requirement already satisfied: charset_normalizer<4,>=2 in /opt/hostedtoolcache/Python/3.9.23/x64/lib/python3.9/site-packages (from requests>=2.14.0->pygithub->getorg) (3.4.3)\r\n",
      "Requirement already satisfied: idna<4,>=2.5 in /opt/hostedtoolcache/Python/3.9.23/x64/lib/python3.9/site-packages (from requests>=2.14.0->pygithub->getorg) (3.10)\r\n",
      "Requirement already satisfied: certifi>=2017.4.17 in /opt/hostedtoolcache/Python/3.9.23/x64/lib/python3.9/site-packages (from requests>=2.14.0->pygithub->getorg) (2025.8.3)\r\n"
     ]
    },
    {
     "name": "stdout",
     "output_type": "stream",
     "text": [
      "Iywidgets and ipyleaflet support disabled. You must be in a Jupyter notebook to use this feature.\n",
      "Error raised:\n",
      "No module named 'ipyleaflet'\n",
      "Check that you have enabled ipyleaflet in Jupyter with:\n",
      "    jupyter nbextension enable --py ipyleaflet\n"
     ]
    }
   ],
   "source": [
    "!pip install getorg --upgrade\n",
    "import glob\n",
    "import getorg\n",
    "from geopy import Nominatim"
   ]
  },
  {
   "cell_type": "code",
   "execution_count": 2,
   "metadata": {
    "collapsed": false,
    "execution": {
     "iopub.execute_input": "2025-08-10T00:41:55.166531Z",
     "iopub.status.busy": "2025-08-10T00:41:55.166236Z",
     "iopub.status.idle": "2025-08-10T00:41:55.169748Z",
     "shell.execute_reply": "2025-08-10T00:41:55.169197Z"
    }
   },
   "outputs": [],
   "source": [
    "g = glob.glob(\"*.md\")"
   ]
  },
  {
   "cell_type": "code",
   "execution_count": 3,
   "metadata": {
    "collapsed": true,
    "execution": {
     "iopub.execute_input": "2025-08-10T00:41:55.171538Z",
     "iopub.status.busy": "2025-08-10T00:41:55.171341Z",
     "iopub.status.idle": "2025-08-10T00:41:55.196616Z",
     "shell.execute_reply": "2025-08-10T00:41:55.195947Z"
    }
   },
   "outputs": [],
   "source": [
    "geocoder = Nominatim(user_agent=\"http\")\n",
    "location_dict = {}\n",
    "location = \"\"\n",
    "permalink = \"\"\n",
    "title = \"\""
   ]
  },
  {
   "cell_type": "code",
   "execution_count": 4,
   "metadata": {
    "collapsed": false,
    "execution": {
     "iopub.execute_input": "2025-08-10T00:41:55.199029Z",
     "iopub.status.busy": "2025-08-10T00:41:55.198795Z",
     "iopub.status.idle": "2025-08-10T00:41:56.416181Z",
     "shell.execute_reply": "2025-08-10T00:41:56.415503Z"
    }
   },
   "outputs": [
    {
     "name": "stdout",
     "output_type": "stream",
     "text": [
      " \n",
      " None\n"
     ]
    },
    {
     "name": "stdout",
     "output_type": "stream",
     "text": [
      " \n",
      " None\n"
     ]
    }
   ],
   "source": [
    "\n",
    "for file in g:\n",
    "    with open(file, 'r') as f:\n",
    "        lines = f.read()\n",
    "        if lines.find('location: \"') > 1:\n",
    "            loc_start = lines.find('location: \"') + 11\n",
    "            lines_trim = lines[loc_start:]\n",
    "            loc_end = lines_trim.find('\"')\n",
    "            location = lines_trim[:loc_end]\n",
    "                            \n",
    "           \n",
    "        location_dict[location] = geocoder.geocode(location)\n",
    "        print(location, \"\\n\", location_dict[location])\n"
   ]
  },
  {
   "cell_type": "code",
   "execution_count": 5,
   "metadata": {
    "collapsed": false,
    "execution": {
     "iopub.execute_input": "2025-08-10T00:41:56.418215Z",
     "iopub.status.busy": "2025-08-10T00:41:56.418022Z",
     "iopub.status.idle": "2025-08-10T00:41:56.425732Z",
     "shell.execute_reply": "2025-08-10T00:41:56.425030Z"
    }
   },
   "outputs": [
    {
     "data": {
      "text/plain": [
       "'Written map to ../talkmap/'"
      ]
     },
     "execution_count": 5,
     "metadata": {},
     "output_type": "execute_result"
    }
   ],
   "source": [
    "m = getorg.orgmap.create_map_obj()\n",
    "getorg.orgmap.output_html_cluster_map(location_dict, folder_name=\"../talkmap\", hashed_usernames=False)"
   ]
  },
  {
   "cell_type": "code",
   "execution_count": null,
   "metadata": {
    "collapsed": true
   },
   "outputs": [],
   "source": []
  }
 ],
 "metadata": {
  "anaconda-cloud": {},
  "kernelspec": {
   "display_name": "AutoML",
   "language": "python",
   "name": "python3"
  },
  "language_info": {
   "codemirror_mode": {
    "name": "ipython",
    "version": 3
   },
   "file_extension": ".py",
   "mimetype": "text/x-python",
   "name": "python",
   "nbconvert_exporter": "python",
   "pygments_lexer": "ipython3",
   "version": "3.9.23"
  }
 },
 "nbformat": 4,
 "nbformat_minor": 0
}
